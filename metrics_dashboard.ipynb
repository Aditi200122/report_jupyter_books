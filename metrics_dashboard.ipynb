{
  "cells": [
    {
      "cell_type": "code",
      "execution_count": 3,
      "id": "2f710400",
      "metadata": {},
      "outputs": [],
      "source": [
        "import sys\n",
        "import os\n",
        "\n",
        "# Adds the parent directory to the Python path\n",
        "sys.path.append(os.path.abspath(os.path.join(os.getcwd(), '..')))"
      ]
    },
    {
      "cell_type": "markdown",
      "id": "e43eed7b",
      "metadata": {},
      "source": [
        "# WhatsApp Donation Dashboard\n",
        "\n",
        "This notebook visualizes real WhatsApp donation data. It allows you to explore how messages and words are distributed across donors and conversations using **Gini Index** and **Lorenz Curves**.\n",
        "\n",
        "We will use interactive widgets to select donors and metrics."
      ]
    },
    {
      "cell_type": "code",
      "execution_count": 4,
      "metadata": {},
      "outputs": [],
      "source": [
        "# Import necessary libraries\n",
        "import pandas as pd\n",
        "import ipywidgets as widgets\n",
        "from IPython.display import display, HTML\n",
        "import matplotlib.pyplot as plt\n",
        "\n",
        "# Import utility functions for data and plots\n",
        "from real_data_utils import donations, messages, calculate_gini, plot_lorenz_curve, plot_burstiness_dashboard"
      ]
    },
    {
      "cell_type": "markdown",
      "metadata": {},
      "source": [
        "## Donor Selection Functions\n",
        "\n",
        "These functions allow us to:\n",
        "- Get a list of unique donor IDs.\n",
        "- Create a dropdown/combobox to select donors.\n",
        "- Filter messages for a selected donor."
      ]
    },
    {
      "cell_type": "code",
      "execution_count": 5,
      "metadata": {},
      "outputs": [],
      "source": [
        "# Function to get sorted list of donor IDs\n",
        "def get_donor_ids():\n",
        "    return sorted(donations['donor_id'].unique())\n",
        "\n",
        "# Function to create a donor selector widget\n",
        "def create_donor_selector():\n",
        "    return widgets.Combobox(\n",
        "        options=get_donor_ids(),\n",
        "        placeholder='Type or select donor_id',\n",
        "        description='Donor:',\n",
        "        ensure_option=False,\n",
        "        layout=widgets.Layout(width='300px')\n",
        "    )\n",
        "\n",
        "# Function to get messages for a given donor\n",
        "def get_donor_messages(donor):\n",
        "    return messages[messages['donation_id'].isin(\n",
        "        donations[donations['donor_id'] == donor]['donation_id']\n",
        "    )]"
      ]
    },
    {
      "cell_type": "markdown",
      "metadata": {},
      "source": [
        "## Gini & Lorenz Dashboard\n",
        "\n",
        "This section creates an interactive dashboard to analyze message or word distributions for a donor.  \n",
        "\n",
        "- **Metric options**: Messages or Words  \n",
        "- **Outputs**: \n",
        "  - Bar chart showing counts per conversation\n",
        "  - Lorenz curve\n",
        "  - Summary with Gini Index interpretation"
      ]
    },
    {
      "cell_type": "code",
      "execution_count": 6,
      "metadata": {},
      "outputs": [],
      "source": [
        "# Function to display the interactive Gini & Lorenz dashboard\n",
        "def show_gini_dashboard():\n",
        "    donor_select = create_donor_selector()\n",
        "    metric_select = widgets.RadioButtons(\n",
        "        options=[\"Messages\", \"Words\"],\n",
        "        description=\"Metric:\",\n",
        "        layout=widgets.Layout(width='200px')\n",
        "    )\n",
        "    submit_btn = widgets.Button(description=\"Load Donor\", button_style='success')\n",
        "    bar_output, lorenz_output, summary_output = widgets.Output(), widgets.Output(), widgets.Output()\n",
        "\n",
        "    def update_dashboard(change=None):\n",
        "        bar_output.clear_output()\n",
        "        lorenz_output.clear_output()\n",
        "        summary_output.clear_output()\n",
        "\n",
        "        donor = donor_select.value\n",
        "        metric = metric_select.value\n",
        "        donor_ids = get_donor_ids()\n",
        "\n",
        "        if donor not in donor_ids:\n",
        "            with summary_output:\n",
        "                display(HTML(f\"<b style='color:red;'> Donor '{donor}' not found in WhatsApp data.</b>\"))\n",
        "            return\n",
        "\n",
        "        donor_msgs = get_donor_messages(donor)\n",
        "\n",
        "        if metric == \"Messages\":\n",
        "            counts = donor_msgs[donor_msgs['sender_id'] == donor].groupby('conversation_id').size().to_dict()\n",
        "        else:\n",
        "            counts = donor_msgs[donor_msgs['sender_id'] == donor].groupby('conversation_id')['word_count'].sum().to_dict()\n",
        "\n",
        "        gini = calculate_gini(counts)\n",
        "\n",
        "        with bar_output:\n",
        "            counts_series = pd.Series(counts).sort_values(ascending=False)\n",
        "            short_labels = [str(x)[:6] + \"...\" if len(str(x)) > 6 else str(x) for x in counts_series.index]\n",
        "            counts_series.plot(kind='bar', figsize=(max(6, len(counts_series) * 0.6), 5), color='blue')\n",
        "            plt.title(f\"{metric} Count per Contact\")\n",
        "            plt.xticks(range(len(short_labels)), short_labels, rotation=45, ha='right')\n",
        "            plt.tight_layout()\n",
        "            plt.grid(True)\n",
        "            plt.show()\n",
        "\n",
        "        with lorenz_output:\n",
        "            plot_lorenz_curve(counts, title=f\"{metric} Distribution\")\n",
        "\n",
        "        with summary_output:\n",
        "            display(HTML(\n",
        "                f\"<div style='background:#f5f5f5; padding:15px; border-radius:10px; width:100%; height:100%;'>\"\n",
        "                f\"<h4 style='margin-top:0;'>Lorenz Curve & Gini Index Summary</h4>\"\n",
        "                f\"<p>This curve shows how unequally messages/words are distributed across contacts. If the curve is close to the diagonal, the distribution is equal. If it bows below the diagonal, it indicates inequality.</p>\"\n",
        "                f\"<p>A Gini index of {gini:.3f} means: \"\n",
        "                f\"{'High inequality (few contacts dominate)' if gini > 0.5 else 'Relatively balanced distribution'}.</p>\"\n",
        "                f\"</div>\"\n",
        "            ))\n",
        "\n",
        "    submit_btn.on_click(update_dashboard)\n",
        "    metric_select.observe(update_dashboard, names='value')\n",
        "\n",
        "    display(widgets.VBox([\n",
        "        widgets.HTML(\"<h2>WhatsApp Donation Dashboard</h2><p>Visualize donor message distributions using real WhatsApp data.</p>\"),\n",
        "        widgets.HBox([donor_select, submit_btn, metric_select], layout=widgets.Layout(gap='20px')),\n",
        "        widgets.HBox([bar_output, lorenz_output, summary_output], layout=widgets.Layout(gap='30px'))\n",
        "    ]))"
      ]
    },
    {
      "cell_type": "markdown",
      "metadata": {},
      "source": [
        "### Launch the Dashboard\n",
        "\n",
        "Run the function below to display the interactive dashboard and start exploring donor data."
      ]
    },
    {
      "cell_type": "code",
      "execution_count": 7,
      "metadata": {},
      "outputs": [
        {
          "data": {
            "application/vnd.jupyter.widget-view+json": {
              "model_id": "3a7fda9c6a954287959abe1723c4daa5",
              "version_major": 2,
              "version_minor": 0
            },
            "text/plain": [
              "VBox(children=(HTML(value='<h2>WhatsApp Donation Dashboard</h2><p>Visualize donor message distributions using …"
            ]
          },
          "metadata": {},
          "output_type": "display_data"
        }
      ],
      "source": [
        "show_gini_dashboard()"
      ]
    }
  ],
  "metadata": {
    "kernelspec": {
      "display_name": "base",
      "language": "python",
      "name": "python3"
    },
    "language_info": {
      "codemirror_mode": {
        "name": "ipython",
        "version": 3
      },
      "file_extension": ".py",
      "mimetype": "text/x-python",
      "name": "python",
      "nbconvert_exporter": "python",
      "pygments_lexer": "ipython3",
      "version": "3.12.7"
    }
  },
  "nbformat": 4,
  "nbformat_minor": 5
}
